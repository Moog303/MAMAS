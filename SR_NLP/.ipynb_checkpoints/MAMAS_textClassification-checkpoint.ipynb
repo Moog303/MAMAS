{
 "cells": [
  {
   "cell_type": "code",
   "execution_count": 1,
   "metadata": {},
   "outputs": [
    {
     "name": "stderr",
     "output_type": "stream",
     "text": [
      "Using TensorFlow backend.\n"
     ]
    }
   ],
   "source": [
    "import gensim\n",
    "from gensim.models import KeyedVectors\n",
    "import numpy as np\n",
    "import pandas as pd\n",
    "import konlpy\n",
    "import fasttext\n",
    "import re\n",
    "import h5py\n",
    "\n",
    "import sys, os \n",
    "from random import shuffle\n",
    "\n",
    "import numpy as np\n",
    "\n",
    "from keras.preprocessing.text import Tokenizer, one_hot\n",
    "from keras.preprocessing.sequence import pad_sequences\n",
    "from keras.utils import to_categorical\n",
    "from keras.layers import MaxPooling1D, Embedding, Dense, Concatenate, Input, Reshape, Bidirectional, LSTM, Flatten, Dropout, Conv1D, Conv2D, MaxPooling2D, GRU, TimeDistributed\n",
    "from keras.models import Model, Sequential, model_from_json\n",
    "from keras.callbacks import EarlyStopping, ModelCheckpoint\n",
    "from keras import optimizers\n",
    "from keras.optimizers import Adam"
   ]
  },
  {
   "cell_type": "markdown",
   "metadata": {},
   "source": [
    "# Preprocessing\n",
    "## Read Data"
   ]
  },
  {
   "cell_type": "code",
   "execution_count": 2,
   "metadata": {},
   "outputs": [],
   "source": [
    "rawdata = pd.read_csv('./ratings.txt', sep='\\t', dtype='unicode')\n",
    "testdata = pd.read_csv('./ratings_test.txt', sep='\\t', dtype='unicode')\n",
    "traindata = pd.read_csv('./ratings_train.txt', sep='\\t', dtype='unicode')"
   ]
  },
  {
   "cell_type": "code",
   "execution_count": 3,
   "metadata": {},
   "outputs": [],
   "source": [
    "xtrain = list(traindata.document)\n",
    "ytrain = list(traindata.label)\n",
    "\n",
    "xtest = list(testdata.document)\n",
    "ytest = list(testdata.label)\n",
    "\n",
    "vecdata = list(rawdata.document)"
   ]
  },
  {
   "cell_type": "code",
   "execution_count": 4,
   "metadata": {},
   "outputs": [],
   "source": [
    "xtrain = np.array(xtrain, dtype='str')\n",
    "xtest = np.array(xtest, dtype='str')\n",
    "vecdata = np.array(vecdata, dtype='str')\n",
    "\n",
    "ytrain = np.array(ytrain, dtype=int)\n",
    "ytest = np.array(ytest, dtype=int)"
   ]
  },
  {
   "cell_type": "code",
   "execution_count": 83,
   "metadata": {},
   "outputs": [],
   "source": [
    "xtestjia = []\n",
    "f = open(\"./diningdata.txt\", 'r')\n",
    "lines = f.readlines()\n",
    "for line in lines:\n",
    "    xtestjia.append(line)\n",
    "f.close()\n",
    "\n",
    "xtestjun = []\n",
    "f2 = open(\"./juntestnew.txt\", 'r')\n",
    "lines = f2.readlines()\n",
    "for line in lines:\n",
    "    xtestjun.append(line)\n",
    "f2.close()"
   ]
  },
  {
   "cell_type": "code",
   "execution_count": 286,
   "metadata": {
    "scrolled": true
   },
   "outputs": [
    {
     "name": "stdout",
     "output_type": "stream",
     "text": [
      "밥이랑 같이 먹어\t\n",
      "\n"
     ]
    }
   ],
   "source": [
    "print(xtestjun[4])"
   ]
  },
  {
   "cell_type": "code",
   "execution_count": 85,
   "metadata": {},
   "outputs": [
    {
     "data": {
      "text/plain": [
       "121"
      ]
     },
     "execution_count": 85,
     "metadata": {},
     "output_type": "execute_result"
    }
   ],
   "source": [
    "len(xtestjia)"
   ]
  },
  {
   "cell_type": "markdown",
   "metadata": {},
   "source": [
    "## Tokenize"
   ]
  },
  {
   "cell_type": "markdown",
   "metadata": {},
   "source": [
    "### Use Nouns and Verbs Only"
   ]
  },
  {
   "cell_type": "code",
   "execution_count": 86,
   "metadata": {},
   "outputs": [],
   "source": [
    "def morphs_process(lines, tagger):\n",
    "    sentences = []\n",
    "    for line in lines:\n",
    "        sentence = []\n",
    "        pos = tagger.pos(line)\n",
    "        for pair in pos:\n",
    "            if (pair[1] in ['NNG','NNB'\n",
    "                            ,'NNBC','NR'\n",
    "                            ,'VV','VA','VX'\n",
    "                            ,'VCP','VCN','MM'\n",
    "                            ,'MAG', 'MAJ', 'IC', 'XR']) :\n",
    "                morpheme = pair[0]\n",
    "                sentence.append(morpheme)\n",
    "            else:\n",
    "                pass\n",
    "        sentences.append(sentence)\n",
    "    return sentences"
   ]
  },
  {
   "cell_type": "code",
   "execution_count": 87,
   "metadata": {},
   "outputs": [],
   "source": [
    "def tokenExport(tokens, filename):\n",
    "    f = open(filename, 'w')\n",
    "    f.write('\\n')\n",
    "    for line in tokens:\n",
    "        f = open(filename, 'a')\n",
    "        f.writelines(' '.join(line))\n",
    "        f.write('\\n')"
   ]
  },
  {
   "cell_type": "code",
   "execution_count": 88,
   "metadata": {},
   "outputs": [],
   "source": [
    "mec = konlpy.tag.Mecab()"
   ]
  },
  {
   "cell_type": "code",
   "execution_count": 11,
   "metadata": {},
   "outputs": [],
   "source": [
    "Xdata = morphs_process(vecdata, mec)\n",
    "Xtrain = morphs_process(xtrain, mec)\n",
    "Xtest = morphs_process(xtest, mec)"
   ]
  },
  {
   "cell_type": "code",
   "execution_count": 89,
   "metadata": {},
   "outputs": [],
   "source": [
    "Xtestjia = morphs_process(xtestjia, mec)\n",
    "Xtestjun = morphs_process(xtestjun, mec)"
   ]
  },
  {
   "cell_type": "code",
   "execution_count": 90,
   "metadata": {},
   "outputs": [
    {
     "name": "stdout",
     "output_type": "stream",
     "text": [
      "121\n",
      "107\n"
     ]
    }
   ],
   "source": [
    "print(len(Xtestjia))\n",
    "print(len(Xtestjun))"
   ]
  },
  {
   "cell_type": "code",
   "execution_count": 13,
   "metadata": {},
   "outputs": [],
   "source": [
    "Xdata = Xdata + Xtestjia + Xtestjun"
   ]
  },
  {
   "cell_type": "code",
   "execution_count": null,
   "metadata": {},
   "outputs": [],
   "source": [
    "tokenExport(Xdata, 'tokens_new.txt')"
   ]
  },
  {
   "cell_type": "code",
   "execution_count": null,
   "metadata": {},
   "outputs": [],
   "source": [
    "del dataForVec"
   ]
  },
  {
   "cell_type": "markdown",
   "metadata": {},
   "source": [
    "## Word Vector Model\n",
    "### FT model "
   ]
  },
  {
   "cell_type": "code",
   "execution_count": null,
   "metadata": {},
   "outputs": [],
   "source": [
    "def ftmodelmake(data, model, lr = 0.1, dim = 200, ws = 5, min_count = 10):\n",
    "    model = fasttext.skipgram(data, model, lr = lr, dim = dim, ws = ws, min_count = min_count)\n",
    "    print(len(model.words))\n",
    "    return model"
   ]
  },
  {
   "cell_type": "code",
   "execution_count": null,
   "metadata": {},
   "outputs": [],
   "source": [
    "ftmodel = ftmodelmake('tokens_new.txt', 'ftmodel')"
   ]
  },
  {
   "cell_type": "code",
   "execution_count": 14,
   "metadata": {},
   "outputs": [
    {
     "name": "stderr",
     "output_type": "stream",
     "text": [
      "/usr/local/lib/python3.6/site-packages/ipykernel_launcher.py:2: DeprecationWarning: Call to deprecated `wv` (Attribute will be removed in 4.0.0, use self instead).\n",
      "  \n"
     ]
    }
   ],
   "source": [
    "ftModel = KeyedVectors.load_word2vec_format('ftmodel.vec')\n",
    "ftVocab= list(ftModel.wv.vocab)"
   ]
  },
  {
   "cell_type": "code",
   "execution_count": 15,
   "metadata": {},
   "outputs": [],
   "source": [
    "def similarTest(model, word):\n",
    "    ftsimilars = model.most_similar(positive=[word], topn=10)\n",
    "    for word, value in ftsimilars:\n",
    "        print(word, value)\n",
    "    print('\\n')"
   ]
  },
  {
   "cell_type": "code",
   "execution_count": 79,
   "metadata": {},
   "outputs": [
    {
     "ename": "KeyError",
     "evalue": "\"word '착' not in vocabulary\"",
     "output_type": "error",
     "traceback": [
      "\u001b[0;31m---------------------------------------------------------------------------\u001b[0m",
      "\u001b[0;31mKeyError\u001b[0m                                  Traceback (most recent call last)",
      "\u001b[0;32m<ipython-input-79-59e30af9385d>\u001b[0m in \u001b[0;36m<module>\u001b[0;34m()\u001b[0m\n\u001b[0;32m----> 1\u001b[0;31m \u001b[0msimilarTest\u001b[0m\u001b[0;34m(\u001b[0m\u001b[0mftModel\u001b[0m\u001b[0;34m,\u001b[0m \u001b[0;34m'착'\u001b[0m\u001b[0;34m)\u001b[0m\u001b[0;34m\u001b[0m\u001b[0m\n\u001b[0m",
      "\u001b[0;32m<ipython-input-15-14635f55db80>\u001b[0m in \u001b[0;36msimilarTest\u001b[0;34m(model, word)\u001b[0m\n\u001b[1;32m      1\u001b[0m \u001b[0;32mdef\u001b[0m \u001b[0msimilarTest\u001b[0m\u001b[0;34m(\u001b[0m\u001b[0mmodel\u001b[0m\u001b[0;34m,\u001b[0m \u001b[0mword\u001b[0m\u001b[0;34m)\u001b[0m\u001b[0;34m:\u001b[0m\u001b[0;34m\u001b[0m\u001b[0m\n\u001b[0;32m----> 2\u001b[0;31m     \u001b[0mftsimilars\u001b[0m \u001b[0;34m=\u001b[0m \u001b[0mmodel\u001b[0m\u001b[0;34m.\u001b[0m\u001b[0mmost_similar\u001b[0m\u001b[0;34m(\u001b[0m\u001b[0mpositive\u001b[0m\u001b[0;34m=\u001b[0m\u001b[0;34m[\u001b[0m\u001b[0mword\u001b[0m\u001b[0;34m]\u001b[0m\u001b[0;34m,\u001b[0m \u001b[0mtopn\u001b[0m\u001b[0;34m=\u001b[0m\u001b[0;36m10\u001b[0m\u001b[0;34m)\u001b[0m\u001b[0;34m\u001b[0m\u001b[0m\n\u001b[0m\u001b[1;32m      3\u001b[0m     \u001b[0;32mfor\u001b[0m \u001b[0mword\u001b[0m\u001b[0;34m,\u001b[0m \u001b[0mvalue\u001b[0m \u001b[0;32min\u001b[0m \u001b[0mftsimilars\u001b[0m\u001b[0;34m:\u001b[0m\u001b[0;34m\u001b[0m\u001b[0m\n\u001b[1;32m      4\u001b[0m         \u001b[0mprint\u001b[0m\u001b[0;34m(\u001b[0m\u001b[0mword\u001b[0m\u001b[0;34m,\u001b[0m \u001b[0mvalue\u001b[0m\u001b[0;34m)\u001b[0m\u001b[0;34m\u001b[0m\u001b[0m\n\u001b[1;32m      5\u001b[0m     \u001b[0mprint\u001b[0m\u001b[0;34m(\u001b[0m\u001b[0;34m'\\n'\u001b[0m\u001b[0;34m)\u001b[0m\u001b[0;34m\u001b[0m\u001b[0m\n",
      "\u001b[0;32m/usr/local/lib/python3.6/site-packages/gensim/models/keyedvectors.py\u001b[0m in \u001b[0;36mmost_similar\u001b[0;34m(self, positive, negative, topn, restrict_vocab, indexer)\u001b[0m\n\u001b[1;32m    528\u001b[0m                 \u001b[0mmean\u001b[0m\u001b[0;34m.\u001b[0m\u001b[0mappend\u001b[0m\u001b[0;34m(\u001b[0m\u001b[0mweight\u001b[0m \u001b[0;34m*\u001b[0m \u001b[0mword\u001b[0m\u001b[0;34m)\u001b[0m\u001b[0;34m\u001b[0m\u001b[0m\n\u001b[1;32m    529\u001b[0m             \u001b[0;32melse\u001b[0m\u001b[0;34m:\u001b[0m\u001b[0;34m\u001b[0m\u001b[0m\n\u001b[0;32m--> 530\u001b[0;31m                 \u001b[0mmean\u001b[0m\u001b[0;34m.\u001b[0m\u001b[0mappend\u001b[0m\u001b[0;34m(\u001b[0m\u001b[0mweight\u001b[0m \u001b[0;34m*\u001b[0m \u001b[0mself\u001b[0m\u001b[0;34m.\u001b[0m\u001b[0mword_vec\u001b[0m\u001b[0;34m(\u001b[0m\u001b[0mword\u001b[0m\u001b[0;34m,\u001b[0m \u001b[0muse_norm\u001b[0m\u001b[0;34m=\u001b[0m\u001b[0;32mTrue\u001b[0m\u001b[0;34m)\u001b[0m\u001b[0;34m)\u001b[0m\u001b[0;34m\u001b[0m\u001b[0m\n\u001b[0m\u001b[1;32m    531\u001b[0m                 \u001b[0;32mif\u001b[0m \u001b[0mword\u001b[0m \u001b[0;32min\u001b[0m \u001b[0mself\u001b[0m\u001b[0;34m.\u001b[0m\u001b[0mvocab\u001b[0m\u001b[0;34m:\u001b[0m\u001b[0;34m\u001b[0m\u001b[0m\n\u001b[1;32m    532\u001b[0m                     \u001b[0mall_words\u001b[0m\u001b[0;34m.\u001b[0m\u001b[0madd\u001b[0m\u001b[0;34m(\u001b[0m\u001b[0mself\u001b[0m\u001b[0;34m.\u001b[0m\u001b[0mvocab\u001b[0m\u001b[0;34m[\u001b[0m\u001b[0mword\u001b[0m\u001b[0;34m]\u001b[0m\u001b[0;34m.\u001b[0m\u001b[0mindex\u001b[0m\u001b[0;34m)\u001b[0m\u001b[0;34m\u001b[0m\u001b[0m\n",
      "\u001b[0;32m/usr/local/lib/python3.6/site-packages/gensim/models/keyedvectors.py\u001b[0m in \u001b[0;36mword_vec\u001b[0;34m(self, word, use_norm)\u001b[0m\n\u001b[1;32m    449\u001b[0m             \u001b[0;32mreturn\u001b[0m \u001b[0mresult\u001b[0m\u001b[0;34m\u001b[0m\u001b[0m\n\u001b[1;32m    450\u001b[0m         \u001b[0;32melse\u001b[0m\u001b[0;34m:\u001b[0m\u001b[0;34m\u001b[0m\u001b[0m\n\u001b[0;32m--> 451\u001b[0;31m             \u001b[0;32mraise\u001b[0m \u001b[0mKeyError\u001b[0m\u001b[0;34m(\u001b[0m\u001b[0;34m\"word '%s' not in vocabulary\"\u001b[0m \u001b[0;34m%\u001b[0m \u001b[0mword\u001b[0m\u001b[0;34m)\u001b[0m\u001b[0;34m\u001b[0m\u001b[0m\n\u001b[0m\u001b[1;32m    452\u001b[0m \u001b[0;34m\u001b[0m\u001b[0m\n\u001b[1;32m    453\u001b[0m     \u001b[0;32mdef\u001b[0m \u001b[0mget_vector\u001b[0m\u001b[0;34m(\u001b[0m\u001b[0mself\u001b[0m\u001b[0;34m,\u001b[0m \u001b[0mword\u001b[0m\u001b[0;34m)\u001b[0m\u001b[0;34m:\u001b[0m\u001b[0;34m\u001b[0m\u001b[0m\n",
      "\u001b[0;31mKeyError\u001b[0m: \"word '착' not in vocabulary\""
     ]
    }
   ],
   "source": [
    "similarTest(ftModel, '착')"
   ]
  },
  {
   "cell_type": "markdown",
   "metadata": {},
   "source": [
    "### Embedding Index"
   ]
  },
  {
   "cell_type": "code",
   "execution_count": 17,
   "metadata": {},
   "outputs": [],
   "source": [
    "def ebdIdx(model, vocab_list):\n",
    "    embd_idx = {}\n",
    "\n",
    "    for w in vocab_list:\n",
    "        embd_idx[w] = model.__getitem__(w)\n",
    "\n",
    "    print(len(embd_idx))\n",
    "    return embd_idx"
   ]
  },
  {
   "cell_type": "code",
   "execution_count": 18,
   "metadata": {},
   "outputs": [
    {
     "name": "stdout",
     "output_type": "stream",
     "text": [
      "7237\n"
     ]
    }
   ],
   "source": [
    "embedding_idx = ebdIdx(ftModel, ftVocab)"
   ]
  },
  {
   "cell_type": "markdown",
   "metadata": {},
   "source": [
    "## Train/Test Data Embedding"
   ]
  },
  {
   "cell_type": "code",
   "execution_count": 91,
   "metadata": {},
   "outputs": [],
   "source": [
    "def getSequence(text, MAX_FEATURES, word_index):\n",
    "    seq = []\n",
    "    for line in text:\n",
    "        lineseq = []\n",
    "        for i in range(len(line)):\n",
    "            if (word_index[line[i]] < MAX_FEATURES):\n",
    "                lineseq.append(word_index[line[i]])\n",
    "            else:\n",
    "                pass\n",
    "        seq.append(lineseq)\n",
    "    seq = pad_sequences(seq, maxlen=MAX_SEQUENCE_LENGTH, padding='post')\n",
    "    seq = np.array(seq)\n",
    "    return seq"
   ]
  },
  {
   "cell_type": "code",
   "execution_count": 20,
   "metadata": {},
   "outputs": [
    {
     "name": "stdout",
     "output_type": "stream",
     "text": [
      "7237\n"
     ]
    }
   ],
   "source": [
    "MAX_FEATURES = len(embedding_idx)\n",
    "MAX_SEQUENCE_LENGTH = 60\n",
    "EMBEDDING_DIM = 200\n",
    "print(MAX_FEATURES)"
   ]
  },
  {
   "cell_type": "code",
   "execution_count": 21,
   "metadata": {},
   "outputs": [
    {
     "data": {
      "text/plain": [
       "(array([16534, 17392, 20432, 41435, 17396, 14564, 22567,  7864,  6183,\n",
       "         8272,  2817,  2460,  4087,  1705,  1539,  2774,  1249,  1202,\n",
       "         2106,  1001,  1009,  1861,   836,   678,   592,   815,   275,\n",
       "          200,   216,    54,    37,    51,    10,     5,     6,     2,\n",
       "            1,     0,     0,     0,     0,     0,     0,     0,     0,\n",
       "            0,     0,     0,     0,     1]),\n",
       " array([ 0.  ,  1.32,  2.64,  3.96,  5.28,  6.6 ,  7.92,  9.24, 10.56,\n",
       "        11.88, 13.2 , 14.52, 15.84, 17.16, 18.48, 19.8 , 21.12, 22.44,\n",
       "        23.76, 25.08, 26.4 , 27.72, 29.04, 30.36, 31.68, 33.  , 34.32,\n",
       "        35.64, 36.96, 38.28, 39.6 , 40.92, 42.24, 43.56, 44.88, 46.2 ,\n",
       "        47.52, 48.84, 50.16, 51.48, 52.8 , 54.12, 55.44, 56.76, 58.08,\n",
       "        59.4 , 60.72, 62.04, 63.36, 64.68, 66.  ]))"
      ]
     },
     "execution_count": 21,
     "metadata": {},
     "output_type": "execute_result"
    }
   ],
   "source": [
    "tokenizer = Tokenizer(num_words=MAX_FEATURES)\n",
    "tokenizer.fit_on_texts(Xdata)\n",
    "word_index = tokenizer.word_index\n",
    "sequences = tokenizer.texts_to_sequences(Xdata)\n",
    "seqlen = np.array([len(sequence) for sequence in sequences])\n",
    "np.histogram(seqlen, bins=50)"
   ]
  },
  {
   "cell_type": "code",
   "execution_count": 22,
   "metadata": {},
   "outputs": [],
   "source": [
    "x_train = getSequence(Xtrain, MAX_FEATURES, word_index)\n",
    "x_test = getSequence(Xtest, MAX_FEATURES, word_index)\n",
    "y_train = to_categorical(np.asarray(ytrain))\n",
    "y_test = to_categorical(np.asarray(ytest))"
   ]
  },
  {
   "cell_type": "code",
   "execution_count": 92,
   "metadata": {},
   "outputs": [],
   "source": [
    "x_testjia = getSequence(Xtestjia, MAX_FEATURES, word_index)\n",
    "x_testjun = getSequence(Xtestjun, MAX_FEATURES, word_index)"
   ]
  },
  {
   "cell_type": "code",
   "execution_count": 93,
   "metadata": {},
   "outputs": [
    {
     "name": "stdout",
     "output_type": "stream",
     "text": [
      "(121, 60)\n",
      "(107, 60)\n",
      "['우와']\n"
     ]
    }
   ],
   "source": [
    "print(x_testjia.shape)\n",
    "print(x_testjun.shape)\n",
    "print(Xtestjia[68])"
   ]
  },
  {
   "cell_type": "code",
   "execution_count": 24,
   "metadata": {},
   "outputs": [
    {
     "name": "stdout",
     "output_type": "stream",
     "text": [
      "Shape of x_train tensor: (150000, 60)\n",
      "Shape of y_train tensor: (150000, 2)\n",
      "Shape of x_test tensor: (50000, 60)\n",
      "Shape of y_test tensor: (50000, 2)\n",
      "7236\n",
      "1.0\n",
      "[ 53 372  15 126 441   0   0   0   0   0   0   0   0   0   0   0   0   0\n",
      "   0   0   0   0   0   0   0   0   0   0   0   0   0   0   0   0   0   0\n",
      "   0   0   0   0   0   0   0   0   0   0   0   0   0   0   0   0   0   0\n",
      "   0   0   0   0   0   0]\n",
      "[[4120 4120  183  292 3043   72   22    6    0    0    0    0    0    0\n",
      "     0    0    0    0    0    0    0    0    0    0    0    0    0    0\n",
      "     0    0    0    0    0    0    0    0    0    0    0    0    0    0\n",
      "     0    0    0    0    0    0    0    0    0    0    0    0    0    0\n",
      "     0    0    0    0]\n",
      " [ 226 4120    0    0    0    0    0    0    0    0    0    0    0    0\n",
      "     0    0    0    0    0    0    0    0    0    0    0    0    0    0\n",
      "     0    0    0    0    0    0    0    0    0    0    0    0    0    0\n",
      "     0    0    0    0    0    0    0    0    0    0    0    0    0    0\n",
      "     0    0    0    0]\n",
      " [ 300 1265    0    0    0    0    0    0    0    0    0    0    0    0\n",
      "     0    0    0    0    0    0    0    0    0    0    0    0    0    0\n",
      "     0    0    0    0    0    0    0    0    0    0    0    0    0    0\n",
      "     0    0    0    0    0    0    0    0    0    0    0    0    0    0\n",
      "     0    0    0    0]\n",
      " [1051  710    0    0    0    0    0    0    0    0    0    0    0    0\n",
      "     0    0    0    0    0    0    0    0    0    0    0    0    0    0\n",
      "     0    0    0    0    0    0    0    0    0    0    0    0    0    0\n",
      "     0    0    0    0    0    0    0    0    0    0    0    0    0    0\n",
      "     0    0    0    0]\n",
      " [   0    0    0    0    0    0    0    0    0    0    0    0    0    0\n",
      "     0    0    0    0    0    0    0    0    0    0    0    0    0    0\n",
      "     0    0    0    0    0    0    0    0    0    0    0    0    0    0\n",
      "     0    0    0    0    0    0    0    0    0    0    0    0    0    0\n",
      "     0    0    0    0]\n",
      " [2971 3043 4120  155  195  487 4120  293 4120  293 4120 3043 4120    0\n",
      "     0    0    0    0    0    0    0    0    0    0    0    0    0    0\n",
      "     0    0    0    0    0    0    0    0    0    0    0    0    0    0\n",
      "     0    0    0    0    0    0    0    0    0    0    0    0    0    0\n",
      "     0    0    0    0]\n",
      " [3043 4120   21 1051  338    6   17 6811 4120 6811  191 1051  733   68\n",
      "   195  957  957 4120  183 1051  710    0    0    0    0    0    0    0\n",
      "     0    0    0    0    0    0    0    0    0    0    0    0    0    0\n",
      "     0    0    0    0    0    0    0    0    0    0    0    0    0    0\n",
      "     0    0    0    0]\n",
      " [   0    0    0    0    0    0    0    0    0    0    0    0    0    0\n",
      "     0    0    0    0    0    0    0    0    0    0    0    0    0    0\n",
      "     0    0    0    0    0    0    0    0    0    0    0    0    0    0\n",
      "     0    0    0    0    0    0    0    0    0    0    0    0    0    0\n",
      "     0    0    0    0]\n",
      " [1051 4120 6811   39   57 6811 4120 2655  191  245  487   82 6811 6811\n",
      "  6811 6811 6811 6811 1370   68   39   57 6811  191   22    6    0    0\n",
      "     0    0    0    0    0    0    0    0    0    0    0    0    0    0\n",
      "     0    0    0    0    0    0    0    0    0    0    0    0    0    0\n",
      "     0    0    0    0]\n",
      " [3295  407   54  183    0    0    0    0    0    0    0    0    0    0\n",
      "     0    0    0    0    0    0    0    0    0    0    0    0    0    0\n",
      "     0    0    0    0    0    0    0    0    0    0    0    0    0    0\n",
      "     0    0    0    0    0    0    0    0    0    0    0    0    0    0\n",
      "     0    0    0    0]]\n"
     ]
    }
   ],
   "source": [
    "print('Shape of x_train tensor:', x_train.shape)\n",
    "print('Shape of y_train tensor:', y_train.shape)\n",
    "print('Shape of x_test tensor:', x_test.shape)\n",
    "print('Shape of y_test tensor:', y_test.shape)\n",
    "print(np.amax(x_train))\n",
    "print(np.amax(y_train))\n",
    "print(x_train[0])\n",
    "print(x_testjia[:10])"
   ]
  },
  {
   "cell_type": "code",
   "execution_count": 25,
   "metadata": {},
   "outputs": [
    {
     "name": "stdout",
     "output_type": "stream",
     "text": [
      "Preparing embedding matrix...\n"
     ]
    }
   ],
   "source": [
    "print('Preparing embedding matrix...')\n",
    "\n",
    "num_words = min(MAX_FEATURES, len(ftVocab) + 1) #unknown word 때문에 +1\n",
    "embedding_matrix = np.zeros((num_words, EMBEDDING_DIM))\n",
    "\n",
    "for word, i in word_index.items():\n",
    "    if i >= MAX_FEATURES:\n",
    "        continue\n",
    "    embedding_vector = embedding_idx.get(word)\n",
    "    if embedding_vector is not None:\n",
    "        embedding_matrix[i] = embedding_vector\n",
    "\n",
    "embedding_layer = Embedding(num_words,\n",
    "                            EMBEDDING_DIM,\n",
    "                            weights=[embedding_matrix], \n",
    "                            input_length=MAX_SEQUENCE_LENGTH,\n",
    "                            trainable=False)"
   ]
  },
  {
   "cell_type": "code",
   "execution_count": 26,
   "metadata": {},
   "outputs": [
    {
     "name": "stdout",
     "output_type": "stream",
     "text": [
      "(7237, 200)\n"
     ]
    }
   ],
   "source": [
    "print(embedding_matrix.shape)"
   ]
  },
  {
   "cell_type": "markdown",
   "metadata": {},
   "source": [
    "## Model Build, Train & Evaluate\n",
    "### Common"
   ]
  },
  {
   "cell_type": "code",
   "execution_count": 27,
   "metadata": {},
   "outputs": [],
   "source": [
    "# path where all models are saved\n",
    "BASE_PATH = './model_180816/'\n",
    "if not os.path.exists(BASE_PATH):\n",
    "    os.mkdir(BASE_PATH)"
   ]
  },
  {
   "cell_type": "code",
   "execution_count": 28,
   "metadata": {},
   "outputs": [],
   "source": [
    "def create_checkpoint(model_name):\n",
    "    MODEL_PATH = os.path.join(BASE_PATH, model_name)\n",
    "    if not os.path.exists(MODEL_PATH):\n",
    "        os.mkdir(MODEL_PATH)\n",
    "    \n",
    "    return ModelCheckpoint(filepath=os.path.join(MODEL_PATH, 'val_loss-{val_loss:.4f}.hdf5'),\n",
    "                           monitor='val_loss',\n",
    "                           verbose=1,\n",
    "                           save_best_only=True)\n",
    "\n",
    "def create_checkpoint2(model_name):\n",
    "    MODEL_PATH = os.path.join(BASE_PATH, model_name)\n",
    "    if not os.path.exists(MODEL_PATH):\n",
    "        os.mkdir(MODEL_PATH)\n",
    "    \n",
    "    return ModelCheckpoint(filepath=os.path.join(MODEL_PATH, 'val_acc-{val_acc:.4f}.hdf5'),\n",
    "                           monitor='val_acc',\n",
    "                           verbose=1,\n",
    "                           save_best_only=True)"
   ]
  },
  {
   "cell_type": "code",
   "execution_count": 29,
   "metadata": {},
   "outputs": [],
   "source": [
    "batch_size = 32\n",
    "max_epochs = 100\n",
    "\n",
    "early_stopping = EarlyStopping(monitor='val_loss',\n",
    "                               patience=10)"
   ]
  },
  {
   "cell_type": "markdown",
   "metadata": {},
   "source": [
    "### CNN"
   ]
  },
  {
   "cell_type": "code",
   "execution_count": 30,
   "metadata": {},
   "outputs": [],
   "source": [
    "def CNNModel(num_filters = 64, drop =0.7):\n",
    "    filter_sizes = [3,4,5]\n",
    "\n",
    "    sequence_input = Input(shape=(MAX_SEQUENCE_LENGTH,), dtype='int32')\n",
    "    embedded_sequences = embedding_layer(sequence_input)\n",
    "    reshape = Reshape((MAX_SEQUENCE_LENGTH,EMBEDDING_DIM,1))(embedded_sequences)\n",
    "\n",
    "    conv_0 = Conv2D(num_filters, \n",
    "                    kernel_size=(filter_sizes[0], EMBEDDING_DIM), \n",
    "                    padding='valid', \n",
    "                    kernel_initializer='normal', \n",
    "                    activation='relu')(reshape)\n",
    "    conv_1 = Conv2D(num_filters, \n",
    "                    kernel_size=(filter_sizes[1], EMBEDDING_DIM), \n",
    "                    padding='valid', \n",
    "                    kernel_initializer='normal', \n",
    "                    activation='relu')(reshape)\n",
    "    conv_2 = Conv2D(num_filters, \n",
    "                    kernel_size=(filter_sizes[2], EMBEDDING_DIM), \n",
    "                    padding='valid', \n",
    "                    kernel_initializer='normal', \n",
    "                    activation='relu')(reshape)\n",
    "   \n",
    "\n",
    "\n",
    "    maxpool_0 = MaxPooling2D(pool_size=(MAX_SEQUENCE_LENGTH - filter_sizes[0] + 1, 1), \n",
    "                             strides=(1,1), \n",
    "                             padding='valid')(conv_0)\n",
    "    maxpool_1 = MaxPooling2D(pool_size=(MAX_SEQUENCE_LENGTH - filter_sizes[1] + 1, 1), \n",
    "                             strides=(1,1), \n",
    "                             padding='valid')(conv_1)\n",
    "    maxpool_2 = MaxPooling2D(pool_size=(MAX_SEQUENCE_LENGTH - filter_sizes[2] + 1, 1), \n",
    "                             strides=(1,1), \n",
    "                             padding='valid')(conv_2)\n",
    "\n",
    "\n",
    "    concatenated_tensor = Concatenate(axis=1)([maxpool_0, maxpool_1, maxpool_2])\n",
    "    flatten = Flatten()(concatenated_tensor)\n",
    "    dropout = Dropout(drop)(flatten)\n",
    "    preds = Dense(2, activation='sigmoid')(dropout)\n",
    "\n",
    "    model = Model(sequence_input, preds)\n",
    "    model.summary()\n",
    "\n",
    "    model.compile(optimizer='adam', loss='binary_crossentropy', metrics=['accuracy'])\n",
    "    \n",
    "    checkloss = create_checkpoint('CNN') \n",
    "    checkacc = create_checkpoint2('CNN')\n",
    "    \n",
    "    print('Training...')\n",
    "    history = model.fit(x_train, y_train, \n",
    "              batch_size=batch_size, \n",
    "              epochs=max_epochs, \n",
    "              verbose=1, \n",
    "              shuffle=True,\n",
    "              callbacks=[checkloss, checkacc, early_stopping], \n",
    "              validation_split=0.15) \n",
    "    return model, history"
   ]
  },
  {
   "cell_type": "code",
   "execution_count": 31,
   "metadata": {},
   "outputs": [
    {
     "name": "stdout",
     "output_type": "stream",
     "text": [
      "__________________________________________________________________________________________________\n",
      "Layer (type)                    Output Shape         Param #     Connected to                     \n",
      "==================================================================================================\n",
      "input_1 (InputLayer)            (None, 60)           0                                            \n",
      "__________________________________________________________________________________________________\n",
      "embedding_1 (Embedding)         (None, 60, 200)      1447400     input_1[0][0]                    \n",
      "__________________________________________________________________________________________________\n",
      "reshape_1 (Reshape)             (None, 60, 200, 1)   0           embedding_1[0][0]                \n",
      "__________________________________________________________________________________________________\n",
      "conv2d_1 (Conv2D)               (None, 58, 1, 64)    38464       reshape_1[0][0]                  \n",
      "__________________________________________________________________________________________________\n",
      "conv2d_2 (Conv2D)               (None, 57, 1, 64)    51264       reshape_1[0][0]                  \n",
      "__________________________________________________________________________________________________\n",
      "conv2d_3 (Conv2D)               (None, 56, 1, 64)    64064       reshape_1[0][0]                  \n",
      "__________________________________________________________________________________________________\n",
      "max_pooling2d_1 (MaxPooling2D)  (None, 1, 1, 64)     0           conv2d_1[0][0]                   \n",
      "__________________________________________________________________________________________________\n",
      "max_pooling2d_2 (MaxPooling2D)  (None, 1, 1, 64)     0           conv2d_2[0][0]                   \n",
      "__________________________________________________________________________________________________\n",
      "max_pooling2d_3 (MaxPooling2D)  (None, 1, 1, 64)     0           conv2d_3[0][0]                   \n",
      "__________________________________________________________________________________________________\n",
      "concatenate_1 (Concatenate)     (None, 3, 1, 64)     0           max_pooling2d_1[0][0]            \n",
      "                                                                 max_pooling2d_2[0][0]            \n",
      "                                                                 max_pooling2d_3[0][0]            \n",
      "__________________________________________________________________________________________________\n",
      "flatten_1 (Flatten)             (None, 192)          0           concatenate_1[0][0]              \n",
      "__________________________________________________________________________________________________\n",
      "dropout_1 (Dropout)             (None, 192)          0           flatten_1[0][0]                  \n",
      "__________________________________________________________________________________________________\n",
      "dense_1 (Dense)                 (None, 2)            386         dropout_1[0][0]                  \n",
      "==================================================================================================\n",
      "Total params: 1,601,578\n",
      "Trainable params: 154,178\n",
      "Non-trainable params: 1,447,400\n",
      "__________________________________________________________________________________________________\n",
      "Training...\n",
      "Train on 127500 samples, validate on 22500 samples\n",
      "Epoch 1/100\n",
      "127500/127500 [==============================] - 97s 761us/step - loss: 0.4412 - acc: 0.7933 - val_loss: 0.4071 - val_acc: 0.8099\n",
      "\n",
      "Epoch 00001: val_loss improved from inf to 0.40708, saving model to ./model_180816/CNN/val_loss-0.4071.hdf5\n",
      "\n",
      "Epoch 00001: val_acc improved from -inf to 0.80989, saving model to ./model_180816/CNN/val_acc-0.8099.hdf5\n",
      "Epoch 2/100\n",
      "127500/127500 [==============================] - 90s 705us/step - loss: 0.4101 - acc: 0.8112 - val_loss: 0.3968 - val_acc: 0.8153\n",
      "\n",
      "Epoch 00002: val_loss improved from 0.40708 to 0.39678, saving model to ./model_180816/CNN/val_loss-0.3968.hdf5\n",
      "\n",
      "Epoch 00002: val_acc improved from 0.80989 to 0.81531, saving model to ./model_180816/CNN/val_acc-0.8153.hdf5\n",
      "Epoch 3/100\n",
      "127500/127500 [==============================] - 95s 748us/step - loss: 0.3977 - acc: 0.8173 - val_loss: 0.3922 - val_acc: 0.8176\n",
      "\n",
      "Epoch 00003: val_loss improved from 0.39678 to 0.39223, saving model to ./model_180816/CNN/val_loss-0.3922.hdf5\n",
      "\n",
      "Epoch 00003: val_acc improved from 0.81531 to 0.81762, saving model to ./model_180816/CNN/val_acc-0.8176.hdf5\n",
      "Epoch 4/100\n",
      "127500/127500 [==============================] - 91s 712us/step - loss: 0.3879 - acc: 0.8228 - val_loss: 0.3878 - val_acc: 0.8200\n",
      "\n",
      "Epoch 00004: val_loss improved from 0.39223 to 0.38783, saving model to ./model_180816/CNN/val_loss-0.3878.hdf5\n",
      "\n",
      "Epoch 00004: val_acc improved from 0.81762 to 0.82004, saving model to ./model_180816/CNN/val_acc-0.8200.hdf5\n",
      "Epoch 5/100\n",
      "127500/127500 [==============================] - 93s 731us/step - loss: 0.3805 - acc: 0.8271 - val_loss: 0.3863 - val_acc: 0.8206\n",
      "\n",
      "Epoch 00005: val_loss improved from 0.38783 to 0.38631, saving model to ./model_180816/CNN/val_loss-0.3863.hdf5\n",
      "\n",
      "Epoch 00005: val_acc improved from 0.82004 to 0.82062, saving model to ./model_180816/CNN/val_acc-0.8206.hdf5\n",
      "Epoch 6/100\n",
      "127500/127500 [==============================] - 90s 704us/step - loss: 0.3727 - acc: 0.8313 - val_loss: 0.3870 - val_acc: 0.8199\n",
      "\n",
      "Epoch 00006: val_loss did not improve from 0.38631\n",
      "\n",
      "Epoch 00006: val_acc did not improve from 0.82062\n",
      "Epoch 7/100\n",
      "127500/127500 [==============================] - 99s 780us/step - loss: 0.3682 - acc: 0.8326 - val_loss: 0.3855 - val_acc: 0.8229\n",
      "\n",
      "Epoch 00007: val_loss improved from 0.38631 to 0.38554, saving model to ./model_180816/CNN/val_loss-0.3855.hdf5\n",
      "\n",
      "Epoch 00007: val_acc improved from 0.82062 to 0.82291, saving model to ./model_180816/CNN/val_acc-0.8229.hdf5\n",
      "Epoch 8/100\n",
      "127500/127500 [==============================] - 94s 740us/step - loss: 0.3617 - acc: 0.8377 - val_loss: 0.3845 - val_acc: 0.8236\n",
      "\n",
      "Epoch 00008: val_loss improved from 0.38554 to 0.38453, saving model to ./model_180816/CNN/val_loss-0.3845.hdf5\n",
      "\n",
      "Epoch 00008: val_acc improved from 0.82291 to 0.82364, saving model to ./model_180816/CNN/val_acc-0.8236.hdf5\n",
      "Epoch 9/100\n",
      "127500/127500 [==============================] - 88s 688us/step - loss: 0.3573 - acc: 0.8390 - val_loss: 0.3854 - val_acc: 0.8216\n",
      "\n",
      "Epoch 00009: val_loss did not improve from 0.38453\n",
      "\n",
      "Epoch 00009: val_acc did not improve from 0.82364\n",
      "Epoch 10/100\n",
      "127500/127500 [==============================] - 89s 700us/step - loss: 0.3517 - acc: 0.8407 - val_loss: 0.3834 - val_acc: 0.8249\n",
      "\n",
      "Epoch 00010: val_loss improved from 0.38453 to 0.38339, saving model to ./model_180816/CNN/val_loss-0.3834.hdf5\n",
      "\n",
      "Epoch 00010: val_acc improved from 0.82364 to 0.82489, saving model to ./model_180816/CNN/val_acc-0.8249.hdf5\n",
      "Epoch 11/100\n",
      "127500/127500 [==============================] - 89s 701us/step - loss: 0.3478 - acc: 0.8428 - val_loss: 0.3851 - val_acc: 0.8237\n",
      "\n",
      "Epoch 00011: val_loss did not improve from 0.38339\n",
      "\n",
      "Epoch 00011: val_acc did not improve from 0.82489\n",
      "Epoch 12/100\n",
      "127500/127500 [==============================] - 87s 682us/step - loss: 0.3441 - acc: 0.8455 - val_loss: 0.3834 - val_acc: 0.8256\n",
      "\n",
      "Epoch 00012: val_loss improved from 0.38339 to 0.38338, saving model to ./model_180816/CNN/val_loss-0.3834.hdf5\n",
      "\n",
      "Epoch 00012: val_acc improved from 0.82489 to 0.82560, saving model to ./model_180816/CNN/val_acc-0.8256.hdf5\n",
      "Epoch 13/100\n",
      "127500/127500 [==============================] - 86s 678us/step - loss: 0.3398 - acc: 0.8472 - val_loss: 0.3881 - val_acc: 0.8243\n",
      "\n",
      "Epoch 00013: val_loss did not improve from 0.38338\n",
      "\n",
      "Epoch 00013: val_acc did not improve from 0.82560\n",
      "Epoch 14/100\n",
      "127500/127500 [==============================] - 86s 672us/step - loss: 0.3359 - acc: 0.8494 - val_loss: 0.3872 - val_acc: 0.8232\n",
      "\n",
      "Epoch 00014: val_loss did not improve from 0.38338\n",
      "\n",
      "Epoch 00014: val_acc did not improve from 0.82560\n",
      "Epoch 15/100\n",
      "127500/127500 [==============================] - 85s 668us/step - loss: 0.3327 - acc: 0.8515 - val_loss: 0.3880 - val_acc: 0.8245\n",
      "\n",
      "Epoch 00015: val_loss did not improve from 0.38338\n",
      "\n",
      "Epoch 00015: val_acc did not improve from 0.82560\n",
      "Epoch 16/100\n",
      "127500/127500 [==============================] - 85s 668us/step - loss: 0.3296 - acc: 0.8517 - val_loss: 0.3924 - val_acc: 0.8224\n"
     ]
    },
    {
     "name": "stdout",
     "output_type": "stream",
     "text": [
      "\n",
      "Epoch 00016: val_loss did not improve from 0.38338\n",
      "\n",
      "Epoch 00016: val_acc did not improve from 0.82560\n",
      "Epoch 17/100\n",
      "127500/127500 [==============================] - 85s 663us/step - loss: 0.3276 - acc: 0.8532 - val_loss: 0.3908 - val_acc: 0.8233\n",
      "\n",
      "Epoch 00017: val_loss did not improve from 0.38338\n",
      "\n",
      "Epoch 00017: val_acc did not improve from 0.82560\n",
      "Epoch 18/100\n",
      "127500/127500 [==============================] - 85s 667us/step - loss: 0.3230 - acc: 0.8564 - val_loss: 0.3934 - val_acc: 0.8244\n",
      "\n",
      "Epoch 00018: val_loss did not improve from 0.38338\n",
      "\n",
      "Epoch 00018: val_acc did not improve from 0.82560\n",
      "Epoch 19/100\n",
      "127500/127500 [==============================] - 85s 666us/step - loss: 0.3216 - acc: 0.8567 - val_loss: 0.3945 - val_acc: 0.8219\n",
      "\n",
      "Epoch 00019: val_loss did not improve from 0.38338\n",
      "\n",
      "Epoch 00019: val_acc did not improve from 0.82560\n",
      "Epoch 20/100\n",
      "127500/127500 [==============================] - 85s 666us/step - loss: 0.3183 - acc: 0.8573 - val_loss: 0.3954 - val_acc: 0.8244\n",
      "\n",
      "Epoch 00020: val_loss did not improve from 0.38338\n",
      "\n",
      "Epoch 00020: val_acc did not improve from 0.82560\n",
      "Epoch 21/100\n",
      "127500/127500 [==============================] - 85s 665us/step - loss: 0.3154 - acc: 0.8590 - val_loss: 0.3969 - val_acc: 0.8236\n",
      "\n",
      "Epoch 00021: val_loss did not improve from 0.38338\n",
      "\n",
      "Epoch 00021: val_acc did not improve from 0.82560\n",
      "Epoch 22/100\n",
      "127500/127500 [==============================] - 85s 664us/step - loss: 0.3145 - acc: 0.8586 - val_loss: 0.3975 - val_acc: 0.8244\n",
      "\n",
      "Epoch 00022: val_loss did not improve from 0.38338\n",
      "\n",
      "Epoch 00022: val_acc did not improve from 0.82560\n"
     ]
    }
   ],
   "source": [
    "cnn = CNNModel()"
   ]
  },
  {
   "cell_type": "markdown",
   "metadata": {},
   "source": [
    "### Plot and Evaluation"
   ]
  },
  {
   "cell_type": "code",
   "execution_count": 32,
   "metadata": {},
   "outputs": [],
   "source": [
    "%matplotlib inline\n",
    "import matplotlib.pyplot as plt\n",
    "\n",
    "def plot_train(history):\n",
    "    fig, loss_ax = plt.subplots(figsize=(6,6))\n",
    "    acc_ax = loss_ax.twinx()\n",
    "\n",
    "    loss_ax.plot(history.history['loss'], 'y', label='train loss')\n",
    "    loss_ax.plot(history.history['val_loss'], 'r', label='val loss')\n",
    "    loss_ax.set_ylim([0.0, 3.0])\n",
    "\n",
    "    acc_ax.plot(history.history['acc'], 'b', label='train acc')\n",
    "    acc_ax.plot(history.history['val_acc'], 'g', label='val acc')\n",
    "    acc_ax.set_ylim([0.0, 1.1])\n",
    "\n",
    "    loss_ax.set_xlabel('epoch')\n",
    "    loss_ax.set_ylabel('loss')\n",
    "    acc_ax.set_ylabel('accuray')\n",
    "\n",
    "    loss_ax.legend(loc='upper left')\n",
    "    acc_ax.legend(loc='lower left')\n",
    "\n",
    "    plt.show()\n",
    "    \n",
    "def test_summary(model, weight_path):\n",
    "    plot_train(model[1])\n",
    "    model[0].load_weights(weight_path)\n",
    "    loss, acc = model[0].evaluate(x_test, y_test, batch_size=batch_size)\n",
    "    print('----- Evaluation loss and metrics -----')\n",
    "    print('Test loss:', loss)\n",
    "    print('Test accuracy:', acc)\n",
    "    \n",
    "def saveModel(model, name):\n",
    "    model_json = model[0].to_json()\n",
    "    with open(name, \"w\") as json_file:\n",
    "        json_file.write(model_json)\n",
    "\n",
    "def loadModel(modelfile, weightfile):\n",
    "    json_file = open(modelfile, 'r')\n",
    "    loaded_model_json = json_file.read()\n",
    "    json_file.close()\n",
    "    loaded_model = model_from_json(loaded_model_json)\n",
    "    loaded_model.load_weights(weightfile)\n",
    "    loaded_model.compile(optimizer='adam', loss='categorical_crossentropy', metrics=['accuracy'])\n",
    "\n",
    "    return loaded_model"
   ]
  },
  {
   "cell_type": "code",
   "execution_count": 34,
   "metadata": {},
   "outputs": [
    {
     "data": {
      "image/png": "[encoded data removed]",
      "text/plain": [
       "<Figure size 432x432 with 2 Axes>"
      ]
     },
     "metadata": {},
     "output_type": "display_data"
    },
    {
     "name": "stdout",
     "output_type": "stream",
     "text": [
      "50000/50000 [==============================] - 10s 202us/step\n",
      "----- Evaluation loss and metrics -----\n",
      "Test loss: 0.3854660088443756\n",
      "Test accuracy: 0.82528\n"
     ]
    }
   ],
   "source": [
    "test_summary(cnn,'./model_180816/CNN/val_loss-0.3834.hdf5')"
   ]
  },
  {
   "cell_type": "code",
   "execution_count": 35,
   "metadata": {},
   "outputs": [],
   "source": [
    "saveModel(cnn, 'cnn-0.825.json')"
   ]
  },
  {
   "cell_type": "code",
   "execution_count": 36,
   "metadata": {},
   "outputs": [],
   "source": [
    "cnnbes = loadModel('./cnn-0.825.json','./model_180816/CNN/val_loss-0.3834.hdf5')"
   ]
  },
  {
   "cell_type": "code",
   "execution_count": 37,
   "metadata": {},
   "outputs": [
    {
     "name": "stdout",
     "output_type": "stream",
     "text": [
      "50000/50000 [==============================] - 10s 193us/step\n",
      "----- Evaluation loss and metrics -----\n",
      "Test loss: 0.38546629009246824\n",
      "Test accuracy: 0.82528\n"
     ]
    }
   ],
   "source": [
    "loss, acc = cnnbes.evaluate(x_test, y_test, batch_size=batch_size)\n",
    "print('----- Evaluation loss and metrics -----')\n",
    "print('Test loss:', loss)\n",
    "print('Test accuracy:', acc)"
   ]
  },
  {
   "cell_type": "code",
   "execution_count": 332,
   "metadata": {},
   "outputs": [],
   "source": [
    "def predict_summary(distance, threshold, data):\n",
    "    pos = 0\n",
    "    neg = 0\n",
    "    for i in distance:\n",
    "        if i >= threshold:\n",
    "            pos += 1\n",
    "        else :\n",
    "            neg +=1\n",
    "            \n",
    "    print('전체 문장:',len(distance))\n",
    "    print('긍정 문장:', pos)\n",
    "    print('부정 문장:', neg)\n",
    "    print('긍정 비율:', pos/len(distance), end='\\n\\n') \n",
    "    \n",
    "    best = np.argmax(distance)\n",
    "    worst = np.argmin(distance)     \n",
    "\n",
    "    plt.hist(distance,bins=20,color='black')\n",
    "    plt.xlabel('distance')\n",
    "    plt.ylabel('frequency')\n",
    "    plt.show()\n",
    "    \n",
    "    print('가장 긍적적인 문장 top5: ', sorted(zip(list(distance), data), reverse=True)[:5], end='\\n\\n')\n",
    "    print('가장 부정적인 문장 top5: ', sorted(zip(list(distance), data), reverse=False)[:5], end='\\n\\n')\n",
    "    print('Gray Area: ',len(grayarea(distance, data, threshold*-1)), grayarea(distance, data, threshold*-1))\n",
    "    \n",
    "def distance(prob):\n",
    "    distance = []\n",
    "    for i in range(len(prob)):\n",
    "        tmp = prob[i][1] - prob[i][0]\n",
    "        distance.append(tmp)\n",
    "    distance = np.array(distance)\n",
    "    return distance\n",
    "\n",
    "def numeric_gradient(histogram):\n",
    "    grad = []\n",
    "    for i in range(len(histogram[0])-1):\n",
    "        grad.append(histogram[0][i+1] - histogram[0][i])\n",
    "    grad = np.array(grad)\n",
    "    return np.argmax(grad)+1\n",
    "\n",
    "def threshold(histogram):\n",
    "    return histogram[1][numeric_gradient(histogram)]\n",
    "\n",
    "def grayarea(distance, data, margin):\n",
    "    gray = []\n",
    "    for index, dist in enumerate(distance):\n",
    "        if dist >= threshold(jun_histogram) and dist < (threshold(jun_histogram) + margin):\n",
    "            gray.append(data[index])\n",
    "    return gray        "
   ]
  },
  {
   "cell_type": "code",
   "execution_count": 333,
   "metadata": {},
   "outputs": [],
   "source": [
    "testprobs_jia = cnnbes.predict(x_testjia, batch_size=batch_size, verbose=0, steps=None)\n",
    "testprobs_jun = cnnbes.predict(x_testjun, batch_size=batch_size, verbose=0, steps=None)"
   ]
  },
  {
   "cell_type": "code",
   "execution_count": 338,
   "metadata": {},
   "outputs": [],
   "source": [
    "dist_jun = distance(testprobs_jun)\n",
    "dist_jia = distance(testprobs_jia)\n",
    "\n",
    "jun_histogram = np.histogram(dist_jun, bins=20)\n",
    "jia_histogram = np.histogram(dist_jia, bins=20)"
   ]
  },
  {
   "cell_type": "code",
   "execution_count": 339,
   "metadata": {},
   "outputs": [
    {
     "name": "stdout",
     "output_type": "stream",
     "text": [
      "전체 문장: 107\n",
      "긍정 문장: 69\n",
      "부정 문장: 38\n",
      "긍정 비율: 0.6448598130841121\n",
      "\n"
     ]
    },
    {
     "data": {
      "image/png": "[encoded data removed]",
      "text/plain": [
       "<Figure size 432x288 with 1 Axes>"
      ]
     },
     "metadata": {},
     "output_type": "display_data"
    },
    {
     "name": "stdout",
     "output_type": "stream",
     "text": [
      "가장 긍적적인 문장 top5:  [(0.99994135, '아빠도? 아빠 아. 아빠도 화이팅, 화이팅 화이팅 화이팅. \\n'), (0.9997122, '엉클도 화이팅 화이팅 화이팅 화이팅. 화이팅 화이팅 화이팅. 음, 이거 엄청 달다. \\n'), (0.999268, '손 말고 포크로. 화이팅. 준이 멋있다. 준이. 와, 멋있다. \\n'), (0.9986962, '또? 또 줘? 준이꺼, 준이꺼 먹어. 화이팅. 화이팅. 엄마가 치킨 갖다줄게. \\n'), (0.9981921, '너무 멋있다. 준이 최고. 최고. 최고.\\n')]\n",
      "\n",
      "가장 부정적인 문장 top5:  [(-0.99875754, '일어났으니까 엄마 이제 치워야겠다. 앉아. 앉아. 똑바로 앉으세요. 노. 노. 다시 먹어. 홍준. 누가 너 아까 그렇게 많이많이 넣으래 하나씩 넣는 거에요. 엄마 보세요. 하나씩 넣어. 하나씩만. 준이 이거 뱉으면 이제 끝이야. 알았어요? \\n'), (-0.9582926, '준이 똑바로 앉아. 앉아. 앉아. 앉으세요. 안 돼. 안 돼. 앉아. 앉아. No. \\n'), (-0.9231533, '준아 뱉으면 아니야, 뱉으면 엄마 이제 이거 치워버릴 거야. 그러니까 냠냠 꼭꼭 하고 꿀꺽해야 해. 꼭꼭. 맘마. \\n'), (-0.90837836, '어? 뱉지마. 뱉으면 안 돼. 뱉지마. 뱉으면 끝이야. 뱉으면 이거 다 치워버릴 거야. \\n'), (-0.89208364, '준이 밥 떠먹어 밥. 밥 떠먹어요 밥. \\n')]\n",
      "\n",
      "Gray Area:  32 ['고마워\\n', '밥이랑 같이 먹어\\t\\n', '이거? 이게 뭐지? 뭐야? \\n', '준이 고기 더 먹고 싶으면 말해. \\n', '아이 예뻐. \\n', '아빠 콜라 가지러 갔어요. \\n', '그거 빨리 치워야지.  \\n', '아빠도 먹을 거야. \\n', '엉클도 아빠도 다들 콕콕. \\n', '차가워 차가워. \\n', '냠냠 꼭꼭. \\n', '알약. \\n', '여기서 해야지 여기서. 여기여기. \\n', '내가 해줄게. \\n', '냠냠 꼭꼭 하고 꿀꺽해 꿀꺽. \\n', '그러면 빨간색 한번 먹어볼까? \\n', '옳지 아이 예뻐. \\n', '아빠, 아빠도 브로콜리 드세요~ \\n', '아빠도 엉클도 알리아도. \\n', '어때. 사탕. 같이 고민을 해봐야겠다.\\n', '시금치야. 시금치. 준이 시금치도 먹어야 돼요. \\n', '치킨 더 먹고 싶으면 말해. \\n', '준아 이거 감자야. \\n', '감자 먹어야 돼. \\n', '응 같이. 어, 준아. 준이가 감자 안 먹어요. \\n', '준이 앉아. 아빠꺼는. 너무 많다. 많다. 어이구. 아. 준이가 먹어.\\n', '어, 아냐. 뱉지마. 다시 먹어. \\n', '물 마셔 물. 베이비 치킨. 베비이 치킨. 베이비. 베이비. 베이비만 먹는 거야. 뼈. \\n', '잘 먹었다. Good job. \\n', '뼈밖에 없어. 뼈야. 지지. 이거? 이거. \\n', '브로콜리랑 같이 먹어야 예뻐요. \\n', '이거. 이거. 엄마 파프리카 먹는다. \\n']\n"
     ]
    }
   ],
   "source": [
    "predict_summary(dist_jun, threshold(jun_histogram), xtestjun)"
   ]
  },
  {
   "cell_type": "code",
   "execution_count": 342,
   "metadata": {},
   "outputs": [
    {
     "name": "stdout",
     "output_type": "stream",
     "text": [
      "전체 문장: 121\n",
      "긍정 문장: 95\n",
      "부정 문장: 26\n",
      "긍정 비율: 0.7851239669421488\n",
      "\n"
     ]
    },
    {
     "data": {
      "image/png": "[encoded data removed]",
      "text/plain": [
       "<Figure size 432x288 with 1 Axes>"
      ]
     },
     "metadata": {},
     "output_type": "display_data"
    },
    {
     "name": "stdout",
     "output_type": "stream",
     "text": [
      "가장 긍적적인 문장 top5:  [(0.84421796, '이제 조금밖에 안남았어 우리 빨리먹고 강아지를 보러 가야해 의사선생님 기다리잖아 의사선생님 보고 그 다음에 강아지 집에 얼른 가자\\n'), (0.79489636, '뽀로로 젓가락으로, 왼손 젓가락으로 먹는날. 지아 완전 잘하죠?\\n'), (0.7857513, '지아가 혼자서 우와 다시 지아가 혼자서 혼자서 그렇지 그렇지 우와 밥도 한 젓가락\\n'), (0.71147335, '잘한다 잘한다 잘한다\\n'), (0.71147335, '잘한다 잘한다 잘한다\\n')]\n",
      "\n",
      "가장 부정적인 문장 top5:  [(-0.93987405, '이제 밥을 넣으면 끝 밥을 넣으면 성공 돌려 숟가락 돌려 돌려 더돌려\\n'), (-0.8981681, '밥을 넣으면 성공이야 간다 간다라간다 간다 간다 밥 간다\\n'), (-0.8767928, '지아야 아빠가 밥 국물에 적셔주세요 해서 국물에 적셨어 이것봐 국물\\n'), (-0.75710464, '국물 밥먹고 또 국물 먹자\\n'), (-0.72159225, '국물주세요 국물주세요\\n')]\n",
      "\n",
      "Gray Area:  44 ['그렇지 아유 이쁘다\\n', '지아야\\n', '지아야 떠봐. 숟가락질도 할 수 있어\\n', '양파도 한 입\\n', '으음\\n', '아삭아삭 맛있는데\\n', '지아 양파먹을 수 있지 않나?\\n', '여기있어요\\n', '네\\n', '네\\n', '지아 입 속으로 사라지는 마술 사라지는 마술 사라지는 마술\\n', '아빠도 한 입 먹을까\\n', '아빠도 한 입\\n', '아빠도 반찬 해다가 우거지를 한 젓가락 찝어서\\n', '응\\n', '파 잖아\\n', '아 파야 이거?\\n', '자 우거지\\n', '이거 괜찮은거지?\\n', '숟가락으로 할꺼야\\n', '양파 쏙\\n', '아삭아삭\\n', '엄마가 내려놓을게 지아가 해봐\\n', '놔봐\\n', '없어지는 마술\\n', '지아야 계란까지 올려줄게 엄마가\\n', '사라지는 마술\\n', '지아야 이것봐\\n', '밥이 밥이 지아야 나를 빨리 먹어\\n', '그러려면 빨리 먹어 사라지는 마술. 지아가 먹을래? 우와 사라지는 마술\\n', '아빠가 한 번 볼까?\\n', '없다\\n', '입 속으로 쏙 들어와라\\n', '마지막 피날레는 젓가락으로\\n', '맛있겠다\\n', '지아 지아\\n', '한꺼번에 하나씩만 요구하라고요\\n', '이지아\\n', '적셨네\\n', '지아 끝났네 지아 없다\\n', '지아 잘 먹었네\\n', '잘 먹었습니다\\n', '잘 먹었으면 어떻게 해야해\\n', '잘 먹었습니다 인사 해야지\\n']\n"
     ]
    }
   ],
   "source": [
    "predict_summary(dist_jia, threshold(jia_histogram), xtestjia)"
   ]
  }
 ],
 "metadata": {
  "kernelspec": {
   "display_name": "Python 3",
   "language": "python",
   "name": "python3"
  },
  "language_info": {
   "codemirror_mode": {
    "name": "ipython",
    "version": 3
   },
   "file_extension": ".py",
   "mimetype": "text/x-python",
   "name": "python",
   "nbconvert_exporter": "python",
   "pygments_lexer": "ipython3",
   "version": "3.6.5"
  }
 },
 "nbformat": 4,
 "nbformat_minor": 2
}
